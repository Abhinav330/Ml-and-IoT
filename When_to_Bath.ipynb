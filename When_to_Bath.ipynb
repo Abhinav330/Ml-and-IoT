{
 "cells": [
  {
   "cell_type": "code",
   "execution_count": 49,
   "metadata": {},
   "outputs": [],
   "source": [
    "import numpy as np\n",
    "import pandas as pd\n",
    "from matplotlib import pyplot as plt\n",
    "import joblib\n"
   ]
  },
  {
   "cell_type": "code",
   "execution_count": 3,
   "metadata": {},
   "outputs": [],
   "source": [
    "df = pd.read_csv(\"Temp_dataset.csv\")"
   ]
  },
  {
   "cell_type": "code",
   "execution_count": 37,
   "metadata": {},
   "outputs": [
    {
     "data": {
      "text/html": [
       "<div>\n",
       "<style scoped>\n",
       "    .dataframe tbody tr th:only-of-type {\n",
       "        vertical-align: middle;\n",
       "    }\n",
       "\n",
       "    .dataframe tbody tr th {\n",
       "        vertical-align: top;\n",
       "    }\n",
       "\n",
       "    .dataframe thead th {\n",
       "        text-align: right;\n",
       "    }\n",
       "</style>\n",
       "<table border=\"1\" class=\"dataframe\">\n",
       "  <thead>\n",
       "    <tr style=\"text-align: right;\">\n",
       "      <th></th>\n",
       "      <th>Hour</th>\n",
       "      <th>Minutes</th>\n",
       "      <th>Temperature</th>\n",
       "      <th>Humidity</th>\n",
       "      <th>Feels_like</th>\n",
       "    </tr>\n",
       "  </thead>\n",
       "  <tbody>\n",
       "    <tr>\n",
       "      <th>0</th>\n",
       "      <td>17</td>\n",
       "      <td>44</td>\n",
       "      <td>22.3</td>\n",
       "      <td>67</td>\n",
       "      <td>22.33</td>\n",
       "    </tr>\n",
       "    <tr>\n",
       "      <th>1</th>\n",
       "      <td>17</td>\n",
       "      <td>49</td>\n",
       "      <td>22.2</td>\n",
       "      <td>68</td>\n",
       "      <td>22.25</td>\n",
       "    </tr>\n",
       "    <tr>\n",
       "      <th>2</th>\n",
       "      <td>17</td>\n",
       "      <td>54</td>\n",
       "      <td>22.0</td>\n",
       "      <td>70</td>\n",
       "      <td>22.08</td>\n",
       "    </tr>\n",
       "    <tr>\n",
       "      <th>3</th>\n",
       "      <td>17</td>\n",
       "      <td>59</td>\n",
       "      <td>22.1</td>\n",
       "      <td>70</td>\n",
       "      <td>22.19</td>\n",
       "    </tr>\n",
       "    <tr>\n",
       "      <th>4</th>\n",
       "      <td>18</td>\n",
       "      <td>4</td>\n",
       "      <td>22.0</td>\n",
       "      <td>71</td>\n",
       "      <td>22.11</td>\n",
       "    </tr>\n",
       "  </tbody>\n",
       "</table>\n",
       "</div>"
      ],
      "text/plain": [
       "   Hour  Minutes  Temperature   Humidity  Feels_like\n",
       "0    17       44          22.3        67       22.33\n",
       "1    17       49          22.2        68       22.25\n",
       "2    17       54          22.0        70       22.08\n",
       "3    17       59          22.1        70       22.19\n",
       "4    18        4          22.0        71       22.11"
      ]
     },
     "execution_count": 37,
     "metadata": {},
     "output_type": "execute_result"
    }
   ],
   "source": [
    "df.head()"
   ]
  },
  {
   "cell_type": "code",
   "execution_count": 38,
   "metadata": {},
   "outputs": [
    {
     "data": {
      "image/png": "[encoded data removed]",
      "text/plain": [
       "<Figure size 720x720 with 1 Axes>"
      ]
     },
     "metadata": {
      "needs_background": "light"
     },
     "output_type": "display_data"
    }
   ],
   "source": [
    "plt.figure(figsize=(10,10))\n",
    "plt.scatter(df[\"Feels_like\"],df['Hour'])\n",
    "plt.xlabel(\"Temperature\")\n",
    "plt.ylabel(\"Hours in 24-hrs format\")\n",
    "plt.show()"
   ]
  },
  {
   "cell_type": "code",
   "execution_count": 39,
   "metadata": {},
   "outputs": [
    {
     "data": {
      "text/plain": [
       "0      22\n",
       "1      22\n",
       "2      22\n",
       "3      22\n",
       "4      22\n",
       "       ..\n",
       "313    20\n",
       "314    20\n",
       "315    20\n",
       "316    20\n",
       "317    20\n",
       "Name: Feels_like, Length: 318, dtype: int64"
      ]
     },
     "execution_count": 39,
     "metadata": {},
     "output_type": "execute_result"
    }
   ],
   "source": [
    "y = df['Feels_like'].apply(lambda x : int(x))\n",
    "y"
   ]
  },
  {
   "cell_type": "code",
   "execution_count": 40,
   "metadata": {},
   "outputs": [
    {
     "data": {
      "text/html": [
       "<div>\n",
       "<style scoped>\n",
       "    .dataframe tbody tr th:only-of-type {\n",
       "        vertical-align: middle;\n",
       "    }\n",
       "\n",
       "    .dataframe tbody tr th {\n",
       "        vertical-align: top;\n",
       "    }\n",
       "\n",
       "    .dataframe thead th {\n",
       "        text-align: right;\n",
       "    }\n",
       "</style>\n",
       "<table border=\"1\" class=\"dataframe\">\n",
       "  <thead>\n",
       "    <tr style=\"text-align: right;\">\n",
       "      <th></th>\n",
       "      <th>Hour</th>\n",
       "    </tr>\n",
       "  </thead>\n",
       "  <tbody>\n",
       "    <tr>\n",
       "      <th>0</th>\n",
       "      <td>17</td>\n",
       "    </tr>\n",
       "    <tr>\n",
       "      <th>1</th>\n",
       "      <td>17</td>\n",
       "    </tr>\n",
       "    <tr>\n",
       "      <th>2</th>\n",
       "      <td>17</td>\n",
       "    </tr>\n",
       "    <tr>\n",
       "      <th>3</th>\n",
       "      <td>17</td>\n",
       "    </tr>\n",
       "    <tr>\n",
       "      <th>4</th>\n",
       "      <td>18</td>\n",
       "    </tr>\n",
       "    <tr>\n",
       "      <th>...</th>\n",
       "      <td>...</td>\n",
       "    </tr>\n",
       "    <tr>\n",
       "      <th>313</th>\n",
       "      <td>20</td>\n",
       "    </tr>\n",
       "    <tr>\n",
       "      <th>314</th>\n",
       "      <td>20</td>\n",
       "    </tr>\n",
       "    <tr>\n",
       "      <th>315</th>\n",
       "      <td>21</td>\n",
       "    </tr>\n",
       "    <tr>\n",
       "      <th>316</th>\n",
       "      <td>21</td>\n",
       "    </tr>\n",
       "    <tr>\n",
       "      <th>317</th>\n",
       "      <td>21</td>\n",
       "    </tr>\n",
       "  </tbody>\n",
       "</table>\n",
       "<p>318 rows × 1 columns</p>\n",
       "</div>"
      ],
      "text/plain": [
       "     Hour\n",
       "0      17\n",
       "1      17\n",
       "2      17\n",
       "3      17\n",
       "4      18\n",
       "..    ...\n",
       "313    20\n",
       "314    20\n",
       "315    21\n",
       "316    21\n",
       "317    21\n",
       "\n",
       "[318 rows x 1 columns]"
      ]
     },
     "execution_count": 40,
     "metadata": {},
     "output_type": "execute_result"
    }
   ],
   "source": [
    "x =df[['Hour']]\n",
    "x"
   ]
  },
  {
   "cell_type": "code",
   "execution_count": 41,
   "metadata": {},
   "outputs": [],
   "source": [
    "from sklearn.model_selection import train_test_split\n",
    "x_train ,x_test ,y_train,y_test =train_test_split(x,y , train_size=0.1)"
   ]
  },
  {
   "cell_type": "code",
   "execution_count": 42,
   "metadata": {},
   "outputs": [],
   "source": [
    "from sklearn.tree import DecisionTreeClassifier\n",
    "model = DecisionTreeClassifier(criterion = 'entropy' , splitter= 'best')"
   ]
  },
  {
   "cell_type": "code",
   "execution_count": 43,
   "metadata": {},
   "outputs": [],
   "source": [
    "model.fit(x_train , y_train)\n",
    "y_pred = model.predict(x_test)"
   ]
  },
  {
   "cell_type": "code",
   "execution_count": 45,
   "metadata": {},
   "outputs": [
    {
     "name": "stdout",
     "output_type": "stream",
     "text": [
      "Accuracy : 74.0 %\n"
     ]
    }
   ],
   "source": [
    "from sklearn.metrics import accuracy_score\n",
    "print(\"Accuracy :\",accuracy_score(y_pred, y_test).round(2)*100 ,\"%\")"
   ]
  },
  {
   "cell_type": "code",
   "execution_count": 47,
   "metadata": {},
   "outputs": [
    {
     "data": {
      "text/plain": [
       "19"
      ]
     },
     "execution_count": 47,
     "metadata": {},
     "output_type": "execute_result"
    }
   ],
   "source": [
    "int(model.predict([[12]]))"
   ]
  },
  {
   "cell_type": "code",
   "execution_count": 50,
   "metadata": {},
   "outputs": [
    {
     "data": {
      "text/plain": [
       "['temp.pkl']"
      ]
     },
     "execution_count": 50,
     "metadata": {},
     "output_type": "execute_result"
    }
   ],
   "source": [
    "joblib.dump(model, 'temp.pkl')\n"
   ]
  },
  {
   "cell_type": "code",
   "execution_count": 174,
   "metadata": {},
   "outputs": [
    {
     "name": "stdout",
     "output_type": "stream",
     "text": [
      "at 2:00 p.m : 24-hrs format : 14:0  temperature will be 21°C\n"
     ]
    }
   ],
   "source": [
    "# aa= input(\"Enter time  ex 12:22\")\n",
    "# bb = input(\"Enter 1 for am or 2 for pm\")\n",
    "# aa =aa.split(\":\")\n",
    "# if bb == \"1\":\n",
    "#     if aa[0]== \"12\":\n",
    "#         hr = 0\n",
    "#     else:\n",
    "#         hr = int(aa[0])\n",
    "# else :\n",
    "#     if aa[0]== \"12\":\n",
    "#         hr = 12\n",
    "#     else:\n",
    "#         hr = int(aa[0])+12\n",
    "# mn = int(aa[1])\n",
    "\n",
    "# val = int(model.predict([[hr]]))\n",
    "# print(f\"at {aa[0]}:{aa[1]} {'a.m' if bb=='1' else 'p.m'} : 24-hrs format : {hr}:{mn}  temperature will be {val}°C\")\n"
   ]
  },
  {
   "cell_type": "code",
   "execution_count": 163,
   "metadata": {},
   "outputs": [
    {
     "name": "stdout",
     "output_type": "stream",
     "text": [
      "You can Bath between :\n",
      "7:00 - 8:00  or \n",
      "8:00 - 9:00  or \n",
      "9:00 - 10:00  or \n",
      "10:00 - 11:00  or \n",
      "11:00 - 12:00  or \n",
      "12:00 - 13:00  or \n",
      "13:00 - 14:00  or \n",
      "14:00 - 15:00  or \n",
      "15:00 - 16:00  or \n",
      "16:00 - 17:00\n"
     ]
    }
   ],
   "source": [
    "pp = int(input(\"Enter °C value at which you want to bath\"))\n",
    "vall = []\n",
    "for i in range(23):\n",
    "    val = int(model.predict([[i]]))\n",
    "    # print(val)\n",
    "    if val == pp:\n",
    "        vall.append(i)\n",
    "\n",
    "if len(vall) == 0:\n",
    "    print(\"Value Not Found\")\n",
    "else :\n",
    "    print(f'You can Bath between :')\n",
    "    for i in vall:\n",
    "        if i == vall[-1]:\n",
    "            print(f\"{i}:00 - {i+1}:00\")\n",
    "        else :\n",
    "            print(f\"{i}:00 - {i+1}:00  or \")\n",
    "\n",
    "        \n"
   ]
  }
 ],
 "metadata": {
  "interpreter": {
   "hash": "b3bbfaba2f52165a2eba43cc9cdb9af411619ca954d11d0887172b44b2072213"
  },
  "kernelspec": {
   "display_name": "Python 3.9.5 64-bit",
   "language": "python",
   "name": "python3"
  },
  "language_info": {
   "codemirror_mode": {
    "name": "ipython",
    "version": 3
   },
   "file_extension": ".py",
   "mimetype": "text/x-python",
   "name": "python",
   "nbconvert_exporter": "python",
   "pygments_lexer": "ipython3",
   "version": "3.9.5"
  },
  "orig_nbformat": 4
 },
 "nbformat": 4,
 "nbformat_minor": 2
}
